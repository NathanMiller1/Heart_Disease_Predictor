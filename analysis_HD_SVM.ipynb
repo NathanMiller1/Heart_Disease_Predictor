{
 "cells": [
  {
   "cell_type": "code",
   "execution_count": 67,
   "id": "29beb5e5",
   "metadata": {},
   "outputs": [],
   "source": [
    "import pandas as pd\n",
    "import numpy as np\n",
    "\n",
    "from matplotlib import pyplot as plt\n",
    "from matplotlib import cm\n",
    "from matplotlib.ticker import LinearLocator\n",
    "\n",
    "from sklearn import svm\n",
    "from sklearn.model_selection import GridSearchCV, cross_validate\n",
    "from sklearn.metrics import f1_score, confusion_matrix, ConfusionMatrixDisplay, cohen_kappa_score, make_scorer"
   ]
  },
  {
   "cell_type": "markdown",
   "id": "d2b50b2e",
   "metadata": {},
   "source": [
    "# Load Data"
   ]
  },
  {
   "cell_type": "code",
   "execution_count": 75,
   "id": "4afa04e3",
   "metadata": {},
   "outputs": [],
   "source": [
    "# Scaled\n",
    "X_train = pd.read_pickle('./datasets/heart_disease/X_train_scaled.pkl')\n",
    "y_train = pd.read_pickle('./datasets/heart_disease/y_train_scaled.pkl')\n",
    "X_test = pd.read_pickle('./datasets/heart_disease/X_test_scaled.pkl')\n",
    "y_test = pd.read_pickle('./datasets/heart_disease/y_test_scaled.pkl')"
   ]
  },
  {
   "cell_type": "code",
   "execution_count": 76,
   "id": "3ada6bee",
   "metadata": {},
   "outputs": [
    {
     "data": {
      "text/html": [
       "<div>\n",
       "<style scoped>\n",
       "    .dataframe tbody tr th:only-of-type {\n",
       "        vertical-align: middle;\n",
       "    }\n",
       "\n",
       "    .dataframe tbody tr th {\n",
       "        vertical-align: top;\n",
       "    }\n",
       "\n",
       "    .dataframe thead th {\n",
       "        text-align: right;\n",
       "    }\n",
       "</style>\n",
       "<table border=\"1\" class=\"dataframe\">\n",
       "  <thead>\n",
       "    <tr style=\"text-align: right;\">\n",
       "      <th></th>\n",
       "      <th>Age</th>\n",
       "      <th>Sex</th>\n",
       "      <th>ChestPainType</th>\n",
       "      <th>RestingBP</th>\n",
       "      <th>Cholesterol</th>\n",
       "      <th>FastingBS</th>\n",
       "      <th>RestingECG</th>\n",
       "      <th>MaxHR</th>\n",
       "      <th>ExerciseAngina</th>\n",
       "      <th>Oldpeak</th>\n",
       "      <th>ST_Slope</th>\n",
       "    </tr>\n",
       "  </thead>\n",
       "  <tbody>\n",
       "    <tr>\n",
       "      <th>378</th>\n",
       "      <td>1.753540</td>\n",
       "      <td>1</td>\n",
       "      <td>2</td>\n",
       "      <td>0.403985</td>\n",
       "      <td>-1.850065</td>\n",
       "      <td>1.894070</td>\n",
       "      <td>0</td>\n",
       "      <td>0.793140</td>\n",
       "      <td>1</td>\n",
       "      <td>1.055374</td>\n",
       "      <td>1</td>\n",
       "    </tr>\n",
       "    <tr>\n",
       "      <th>356</th>\n",
       "      <td>-0.817871</td>\n",
       "      <td>1</td>\n",
       "      <td>2</td>\n",
       "      <td>-0.950506</td>\n",
       "      <td>-1.850065</td>\n",
       "      <td>-0.527964</td>\n",
       "      <td>0</td>\n",
       "      <td>-0.924506</td>\n",
       "      <td>1</td>\n",
       "      <td>0.577847</td>\n",
       "      <td>1</td>\n",
       "    </tr>\n",
       "    <tr>\n",
       "      <th>738</th>\n",
       "      <td>1.217829</td>\n",
       "      <td>0</td>\n",
       "      <td>1</td>\n",
       "      <td>1.487578</td>\n",
       "      <td>1.498941</td>\n",
       "      <td>-0.527964</td>\n",
       "      <td>2</td>\n",
       "      <td>0.558916</td>\n",
       "      <td>0</td>\n",
       "      <td>-0.090691</td>\n",
       "      <td>0</td>\n",
       "    </tr>\n",
       "    <tr>\n",
       "      <th>85</th>\n",
       "      <td>1.324972</td>\n",
       "      <td>1</td>\n",
       "      <td>2</td>\n",
       "      <td>0.403985</td>\n",
       "      <td>-0.556976</td>\n",
       "      <td>-0.527964</td>\n",
       "      <td>0</td>\n",
       "      <td>-1.666216</td>\n",
       "      <td>1</td>\n",
       "      <td>0.100320</td>\n",
       "      <td>1</td>\n",
       "    </tr>\n",
       "    <tr>\n",
       "      <th>427</th>\n",
       "      <td>0.574977</td>\n",
       "      <td>1</td>\n",
       "      <td>2</td>\n",
       "      <td>0.403985</td>\n",
       "      <td>-1.850065</td>\n",
       "      <td>-0.527964</td>\n",
       "      <td>1</td>\n",
       "      <td>-0.768356</td>\n",
       "      <td>1</td>\n",
       "      <td>0.100320</td>\n",
       "      <td>1</td>\n",
       "    </tr>\n",
       "  </tbody>\n",
       "</table>\n",
       "</div>"
      ],
      "text/plain": [
       "          Age  Sex  ChestPainType  RestingBP  Cholesterol  FastingBS  \\\n",
       "378  1.753540    1              2   0.403985    -1.850065   1.894070   \n",
       "356 -0.817871    1              2  -0.950506    -1.850065  -0.527964   \n",
       "738  1.217829    0              1   1.487578     1.498941  -0.527964   \n",
       "85   1.324972    1              2   0.403985    -0.556976  -0.527964   \n",
       "427  0.574977    1              2   0.403985    -1.850065  -0.527964   \n",
       "\n",
       "     RestingECG     MaxHR  ExerciseAngina   Oldpeak  ST_Slope  \n",
       "378           0  0.793140               1  1.055374         1  \n",
       "356           0 -0.924506               1  0.577847         1  \n",
       "738           2  0.558916               0 -0.090691         0  \n",
       "85            0 -1.666216               1  0.100320         1  \n",
       "427           1 -0.768356               1  0.100320         1  "
      ]
     },
     "execution_count": 76,
     "metadata": {},
     "output_type": "execute_result"
    }
   ],
   "source": [
    "X_train.head()"
   ]
  },
  {
   "cell_type": "markdown",
   "id": "12507efd",
   "metadata": {},
   "source": [
    "# Train SVM"
   ]
  },
  {
   "cell_type": "markdown",
   "id": "1190d03b",
   "metadata": {},
   "source": [
    "### Baseline"
   ]
  },
  {
   "cell_type": "code",
   "execution_count": 55,
   "id": "931e419a",
   "metadata": {},
   "outputs": [
    {
     "name": "stdout",
     "output_type": "stream",
     "text": [
      "Validation Accuracy: 0.895\n",
      "Test Accuracy: 0.837\n",
      "F1 Score: 0.862\n"
     ]
    },
    {
     "data": {
      "image/png": "[encoded data removed]",
      "text/plain": [
       "<Figure size 432x288 with 2 Axes>"
      ]
     },
     "metadata": {
      "needs_background": "light"
     },
     "output_type": "display_data"
    }
   ],
   "source": [
    "# Baseline model\n",
    "clf = svm.SVC(random_state=0).fit(X_train, y_train)\n",
    "\n",
    "y_pred = clf.predict(X_test)\n",
    "\n",
    "# Print accuracy\n",
    "print(f'Validation Accuracy: {clf.score(X_train, y_train):.3f}')\n",
    "print(f'Test Accuracy: {clf.score(X_test, y_test):.3f}')\n",
    "print(f'F1 Score: {f1_score(y_test, y_pred):.3f}')\n",
    "\n",
    "# Plot confusion matrix\n",
    "cm = confusion_matrix(y_test, y_pred, labels=clf.classes_)\n",
    "disp = ConfusionMatrixDisplay(confusion_matrix=cm, display_labels=clf.classes_)\n",
    "\n",
    "disp.plot()\n",
    "plt.show()"
   ]
  },
  {
   "cell_type": "markdown",
   "id": "62f49cc5",
   "metadata": {},
   "source": [
    "# Grid Search"
   ]
  },
  {
   "cell_type": "code",
   "execution_count": null,
   "id": "d08d4005",
   "metadata": {},
   "outputs": [],
   "source": [
    "parameters = {\n",
    "    'kernel': ['poly'],\n",
    "    'C': [2**i for i in range(-5, 16)],\n",
    "    'gamma': [2**i for i in range(-15, 4)],\n",
    "    'degree': [2, 3],\n",
    "}\n",
    "\n",
    "svc = svm.SVC(random_state=0)\n",
    "\n",
    "start_time = time.time()\n",
    "\n",
    "clf = GridSearchCV(estimator=svc, \n",
    "                   param_grid=parameters, \n",
    "                   scoring='f1',\n",
    "                   verbose=1,\n",
    "                   n_jobs=-1).fit(X_train, y_train)\n",
    "\n",
    "df = pd.DataFrame(clf.cv_results_)\n",
    "df.tail()\n",
    "df.to_csv('./results/hd/results_hd_svm1.csv', index=False)\n",
    "\n",
    "print(f'Runtime:{time.time() - start_time}')\n",
    "print(f'Best Score: {clf.best_score_:.3f}')\n",
    "print('Best Parameters')\n",
    "print(clf.best_params_)\n",
    "\n",
    "y_pred = clf.predict(X_test)\n",
    "\n",
    "# Print accuracy\n",
    "print(f'Validation Accuracy: {clf.score(X_train, y_train):.3f}')\n",
    "print(f'Test Accuracy: {clf.score(X_test, y_test):.3f}')\n",
    "print(f'F1 Score: {f1_score(y_test, y_pred):.3f}')\n",
    "\n",
    "# Plot confusion matrix\n",
    "cm = confusion_matrix(y_test, y_pred, labels=clf.classes_)\n",
    "disp = ConfusionMatrixDisplay(confusion_matrix=cm, display_labels=clf.classes_)\n",
    "\n",
    "disp.plot()\n",
    "plt.show()"
   ]
  },
  {
   "cell_type": "markdown",
   "id": "172d6421",
   "metadata": {},
   "source": [
    "# Final Graphs"
   ]
  },
  {
   "cell_type": "code",
   "execution_count": 65,
   "id": "d0b6d2b9",
   "metadata": {},
   "outputs": [
    {
     "data": {
      "image/png": "[encoded data removed]",
      "text/plain": [
       "<Figure size 432x288 with 1 Axes>"
      ]
     },
     "metadata": {
      "needs_background": "light"
     },
     "output_type": "display_data"
    }
   ],
   "source": [
    "rbf_train = []\n",
    "rbf_test = []\n",
    "linear_train = []\n",
    "linear_test = []\n",
    "poly2_train = []\n",
    "poly2_test = []\n",
    "poly3_train = []\n",
    "poly3_test = []\n",
    "poly4_train = []\n",
    "poly4_test = []\n",
    "sigmoid_train = []\n",
    "sigmoid_test = []\n",
    "\n",
    "kernels = [['rbf', rbf_train, rbf_test],\n",
    "           ['linear', linear_train, linear_test],\n",
    "           ['poly2', poly2_train, poly2_test],\n",
    "           ['poly3', poly3_train, poly3_test],\n",
    "           ['poly4', poly4_train, poly4_test],\n",
    "           ['sigmoid', sigmoid_train, sigmoid_test]]\n",
    "\n",
    "# Max C\n",
    "max_c = 11\n",
    "\n",
    "for thing in kernels:\n",
    "    kernel, train, test = thing\n",
    "    plot_name = kernel\n",
    "    if kernel == 'poly2':\n",
    "        kernel = 'poly'\n",
    "        deg = 2\n",
    "    elif kernel == 'poly3':\n",
    "        kernel = 'poly'\n",
    "        deg = 3\n",
    "    elif kernel == 'poly4':\n",
    "        kernel = 'poly'\n",
    "        deg = 4\n",
    "    else:\n",
    "        deg = 1\n",
    "    \n",
    "    for i in range(1, max_c):\n",
    "        scores = cross_validate(estimator=svm.SVC(C=i,\n",
    "                                                  kernel=kernel,\n",
    "                                                  degree=deg,\n",
    "                                                  random_state=0),\n",
    "                                X=X_train, \n",
    "                                y=y_train,\n",
    "                                scoring='f1',\n",
    "                                return_train_score=True,\n",
    "                                return_estimator=True,\n",
    "                                n_jobs=-1)\n",
    "\n",
    "        # Append scores\n",
    "        train.append(scores['train_score'].mean())\n",
    "        test.append(scores['test_score'].mean())\n",
    "        \n",
    "\n",
    "# Plot Scores\n",
    "fig, ax = plt.subplots()\n",
    "ax.set_xlabel('C')\n",
    "ax.set_ylabel('F1 Score')\n",
    "ax.set_title('F1 vs C, by Kernel')\n",
    "\n",
    "#Training\n",
    "ax.plot(list(range(1,max_c)), rbf_train, marker=\"+\", label=\"rbf_train\", c='green', drawstyle=\"steps-post\")\n",
    "ax.plot(list(range(1,max_c)), linear_train, marker=\"+\", label=\"linear_train\", c='red', drawstyle=\"steps-post\")\n",
    "ax.plot(list(range(1,max_c)), poly2_train, marker=\"+\", label=\"poly2_train\", c='orange', drawstyle=\"steps-post\")\n",
    "ax.plot(list(range(1,max_c)), poly3_train, marker=\"+\", label=\"poly3_train\", c='blue', drawstyle=\"steps-post\")\n",
    "ax.plot(list(range(1,max_c)), poly4_train, marker=\"+\", label=\"poly4_train\", c='brown', drawstyle=\"steps-post\")\n",
    "#ax.plot(list(range(1,max_c)), sigmoid_train, marker=\"+\", label=\"sigmoid_train\", drawstyle=\"steps-post\")\n",
    "\n",
    "# Validation\n",
    "ax.plot(list(range(1,max_c)), rbf_test, marker=\"o\", label=\"rbf_val\", c='green', drawstyle=\"steps-post\")\n",
    "ax.plot(list(range(1,max_c)), linear_test, marker=\"o\", label=\"linear_val\", c='red', drawstyle=\"steps-post\")\n",
    "ax.plot(list(range(1,max_c)), poly2_test, marker=\"o\", label=\"poly2_val\", c='orange', drawstyle=\"steps-post\")\n",
    "ax.plot(list(range(1,max_c)), poly3_test, marker=\"o\", label=\"poly3_val\", c='blue', drawstyle=\"steps-post\")\n",
    "ax.plot(list(range(1,max_c)), poly4_test, marker=\"o\", label=\"poly4_val\", c='brown', drawstyle=\"steps-post\")\n",
    "#ax.plot(list(range(1,max_c)), sigmoid_test, marker=\"o\", label=\"sigmoid_val\", drawstyle=\"steps-post\")\n",
    "\n",
    "ax.legend(loc='center left', bbox_to_anchor=(1, 0.5))\n",
    "plt.show()"
   ]
  },
  {
   "cell_type": "code",
   "execution_count": 69,
   "id": "aa1a7229",
   "metadata": {},
   "outputs": [
    {
     "data": {
      "image/png": "[encoded data removed]",
      "text/plain": [
       "<Figure size 432x288 with 2 Axes>"
      ]
     },
     "metadata": {},
     "output_type": "display_data"
    }
   ],
   "source": [
    "rbf_train = []\n",
    "rbf_test = []\n",
    "linear_train = []\n",
    "linear_test = []\n",
    "poly2_train = []\n",
    "poly2_test = []\n",
    "poly3_train = []\n",
    "poly3_test = []\n",
    "poly4_train = []\n",
    "poly4_test = []\n",
    "\n",
    "kernels = [['rbf', rbf_train, rbf_test]]\n",
    "\n",
    "# Max C\n",
    "Cs = [2**i for i in range(-5, 16)]\n",
    "gammas = [2**i for i in range(-15, 4)]\n",
    "\n",
    "for thing in kernels:\n",
    "    kernel, train, test = thing\n",
    "    \n",
    "    #for i in range(1, max_c):\n",
    "    for i in Cs:\n",
    "        for g in gammas:\n",
    "            scores = cross_validate(estimator=svm.SVC(C=i,\n",
    "                                                      gamma=g,\n",
    "                                                      kernel=kernel,\n",
    "                                                      class_weight=None,\n",
    "                                                      random_state=0),\n",
    "                                    X=X_train, \n",
    "                                    y=y_train,\n",
    "                                    scoring='f1',\n",
    "                                    return_train_score=True,\n",
    "                                    return_estimator=True,\n",
    "                                    n_jobs=-1)\n",
    "\n",
    "            # Append scores\n",
    "            train.append(scores['train_score'].mean())\n",
    "            test.append(scores['test_score'].mean())\n",
    "\n",
    "# Shape data for 3d plot\n",
    "X, Y = np.meshgrid(Cs, gammas)\n",
    "Z = np.reshape(rbf_test, X.shape)\n",
    "\n",
    "fig, ax = plt.subplots(subplot_kw={\"projection\": \"3d\"}, facecolor='white')\n",
    "#ax.set_facecolor('white')\n",
    "\n",
    "# Plot the surface\n",
    "surface = ax.plot_surface(np.log(X), np.log(Y), Z, cmap=cm.coolwarm, linewidth=0, antialiased=False)\n",
    "\n",
    "# Add axis labels\n",
    "ax.set_xlabel('log(C)')\n",
    "ax.set_ylabel('log(Gamma)')\n",
    "ax.set_zlabel('F1')\n",
    "\n",
    "# Color bar\n",
    "fig.colorbar(surface, shrink=0.5, aspect=10, pad=0.13)\n",
    "\n",
    "# Save plot\n",
    "plt.savefig('./plots/graph_hd.png')\n",
    "        "
   ]
  },
  {
   "cell_type": "code",
   "execution_count": null,
   "id": "49f49205",
   "metadata": {},
   "outputs": [],
   "source": []
  }
 ],
 "metadata": {
  "kernelspec": {
   "display_name": "Python 3 (ipykernel)",
   "language": "python",
   "name": "python3"
  },
  "language_info": {
   "codemirror_mode": {
    "name": "ipython",
    "version": 3
   },
   "file_extension": ".py",
   "mimetype": "text/x-python",
   "name": "python",
   "nbconvert_exporter": "python",
   "pygments_lexer": "ipython3",
   "version": "3.10.4"
  }
 },
 "nbformat": 4,
 "nbformat_minor": 5
}
