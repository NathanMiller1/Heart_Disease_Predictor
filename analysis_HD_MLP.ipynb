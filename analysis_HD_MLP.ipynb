{
 "cells": [
  {
   "cell_type": "code",
   "execution_count": 65,
   "id": "29beb5e5",
   "metadata": {},
   "outputs": [],
   "source": [
    "import pandas as pd\n",
    "import numpy as np\n",
    "\n",
    "from matplotlib import pyplot as plt\n",
    "\n",
    "from sklearn.model_selection import train_test_split\n",
    "from sklearn.model_selection import LearningCurveDisplay, ShuffleSplit\n",
    "\n",
    "from sklearn.neural_network import MLPClassifier\n",
    "from sklearn.model_selection import GridSearchCV, cross_validate\n",
    "from sklearn.metrics import f1_score, confusion_matrix, ConfusionMatrixDisplay, log_loss\n",
    "from sklearn.exceptions import ConvergenceWarning\n",
    "\n",
    "import warnings\n",
    "import sys\n",
    "import os"
   ]
  },
  {
   "cell_type": "markdown",
   "id": "d2b50b2e",
   "metadata": {},
   "source": [
    "# Load Data"
   ]
  },
  {
   "cell_type": "code",
   "execution_count": 44,
   "id": "4afa04e3",
   "metadata": {},
   "outputs": [],
   "source": [
    "X_train = pd.read_pickle('./datasets/heart_disease/X_train_scaled.pkl')\n",
    "y_train = pd.read_pickle('./datasets/heart_disease/y_train_scaled.pkl')\n",
    "X_test = pd.read_pickle('./datasets/heart_disease/X_test_scaled.pkl')\n",
    "y_test = pd.read_pickle('./datasets/heart_disease/y_test_scaled.pkl')"
   ]
  },
  {
   "cell_type": "code",
   "execution_count": 45,
   "id": "3ada6bee",
   "metadata": {},
   "outputs": [
    {
     "data": {
      "text/html": [
       "<div>\n",
       "<style scoped>\n",
       "    .dataframe tbody tr th:only-of-type {\n",
       "        vertical-align: middle;\n",
       "    }\n",
       "\n",
       "    .dataframe tbody tr th {\n",
       "        vertical-align: top;\n",
       "    }\n",
       "\n",
       "    .dataframe thead th {\n",
       "        text-align: right;\n",
       "    }\n",
       "</style>\n",
       "<table border=\"1\" class=\"dataframe\">\n",
       "  <thead>\n",
       "    <tr style=\"text-align: right;\">\n",
       "      <th></th>\n",
       "      <th>Age</th>\n",
       "      <th>Sex</th>\n",
       "      <th>ChestPainType</th>\n",
       "      <th>RestingBP</th>\n",
       "      <th>Cholesterol</th>\n",
       "      <th>FastingBS</th>\n",
       "      <th>RestingECG</th>\n",
       "      <th>MaxHR</th>\n",
       "      <th>ExerciseAngina</th>\n",
       "      <th>Oldpeak</th>\n",
       "      <th>ST_Slope</th>\n",
       "    </tr>\n",
       "  </thead>\n",
       "  <tbody>\n",
       "    <tr>\n",
       "      <th>378</th>\n",
       "      <td>1.753540</td>\n",
       "      <td>1</td>\n",
       "      <td>2</td>\n",
       "      <td>0.403985</td>\n",
       "      <td>-1.850065</td>\n",
       "      <td>1.894070</td>\n",
       "      <td>0</td>\n",
       "      <td>0.793140</td>\n",
       "      <td>1</td>\n",
       "      <td>1.055374</td>\n",
       "      <td>1</td>\n",
       "    </tr>\n",
       "    <tr>\n",
       "      <th>356</th>\n",
       "      <td>-0.817871</td>\n",
       "      <td>1</td>\n",
       "      <td>2</td>\n",
       "      <td>-0.950506</td>\n",
       "      <td>-1.850065</td>\n",
       "      <td>-0.527964</td>\n",
       "      <td>0</td>\n",
       "      <td>-0.924506</td>\n",
       "      <td>1</td>\n",
       "      <td>0.577847</td>\n",
       "      <td>1</td>\n",
       "    </tr>\n",
       "    <tr>\n",
       "      <th>738</th>\n",
       "      <td>1.217829</td>\n",
       "      <td>0</td>\n",
       "      <td>1</td>\n",
       "      <td>1.487578</td>\n",
       "      <td>1.498941</td>\n",
       "      <td>-0.527964</td>\n",
       "      <td>2</td>\n",
       "      <td>0.558916</td>\n",
       "      <td>0</td>\n",
       "      <td>-0.090691</td>\n",
       "      <td>0</td>\n",
       "    </tr>\n",
       "    <tr>\n",
       "      <th>85</th>\n",
       "      <td>1.324972</td>\n",
       "      <td>1</td>\n",
       "      <td>2</td>\n",
       "      <td>0.403985</td>\n",
       "      <td>-0.556976</td>\n",
       "      <td>-0.527964</td>\n",
       "      <td>0</td>\n",
       "      <td>-1.666216</td>\n",
       "      <td>1</td>\n",
       "      <td>0.100320</td>\n",
       "      <td>1</td>\n",
       "    </tr>\n",
       "    <tr>\n",
       "      <th>427</th>\n",
       "      <td>0.574977</td>\n",
       "      <td>1</td>\n",
       "      <td>2</td>\n",
       "      <td>0.403985</td>\n",
       "      <td>-1.850065</td>\n",
       "      <td>-0.527964</td>\n",
       "      <td>1</td>\n",
       "      <td>-0.768356</td>\n",
       "      <td>1</td>\n",
       "      <td>0.100320</td>\n",
       "      <td>1</td>\n",
       "    </tr>\n",
       "  </tbody>\n",
       "</table>\n",
       "</div>"
      ],
      "text/plain": [
       "          Age  Sex  ChestPainType  RestingBP  Cholesterol  FastingBS  \\\n",
       "378  1.753540    1              2   0.403985    -1.850065   1.894070   \n",
       "356 -0.817871    1              2  -0.950506    -1.850065  -0.527964   \n",
       "738  1.217829    0              1   1.487578     1.498941  -0.527964   \n",
       "85   1.324972    1              2   0.403985    -0.556976  -0.527964   \n",
       "427  0.574977    1              2   0.403985    -1.850065  -0.527964   \n",
       "\n",
       "     RestingECG     MaxHR  ExerciseAngina   Oldpeak  ST_Slope  \n",
       "378           0  0.793140               1  1.055374         1  \n",
       "356           0 -0.924506               1  0.577847         1  \n",
       "738           2  0.558916               0 -0.090691         0  \n",
       "85            0 -1.666216               1  0.100320         1  \n",
       "427           1 -0.768356               1  0.100320         1  "
      ]
     },
     "execution_count": 45,
     "metadata": {},
     "output_type": "execute_result"
    }
   ],
   "source": [
    "X_train.head()"
   ]
  },
  {
   "cell_type": "markdown",
   "id": "12507efd",
   "metadata": {},
   "source": [
    "# Train MLP"
   ]
  },
  {
   "cell_type": "markdown",
   "id": "1190d03b",
   "metadata": {},
   "source": [
    "### Baseline"
   ]
  },
  {
   "cell_type": "code",
   "execution_count": 39,
   "id": "931e419a",
   "metadata": {},
   "outputs": [
    {
     "name": "stdout",
     "output_type": "stream",
     "text": [
      "Validation Accuracy: 0.902\n",
      "Test Accuracy: 0.859\n",
      "F1 Score: 0.880\n"
     ]
    },
    {
     "data": {
      "image/png": "[encoded data removed]",
      "text/plain": [
       "<Figure size 432x288 with 2 Axes>"
      ]
     },
     "metadata": {
      "needs_background": "light"
     },
     "output_type": "display_data"
    }
   ],
   "source": [
    "# Baseline model\n",
    "clf = MLPClassifier(random_state=0).fit(X_train, y_train)\n",
    "\n",
    "y_pred = clf.predict(X_test)\n",
    "\n",
    "# Print accuracy\n",
    "print(f'Validation Accuracy: {clf.score(X_train, y_train):.3f}')\n",
    "print(f'Test Accuracy: {clf.score(X_test, y_test):.3f}')\n",
    "print(f'F1 Score: {f1_score(y_test, y_pred):.3f}')\n",
    "\n",
    "# Plot confusion matrix\n",
    "cm = confusion_matrix(y_test, y_pred, labels=clf.classes_)\n",
    "disp = ConfusionMatrixDisplay(confusion_matrix=cm, display_labels=clf.classes_)\n",
    "\n",
    "disp.plot()\n",
    "plt.show()"
   ]
  },
  {
   "cell_type": "markdown",
   "id": "6460401c",
   "metadata": {},
   "source": [
    "# Grid Search"
   ]
  },
  {
   "cell_type": "code",
   "execution_count": 41,
   "id": "a11404dd",
   "metadata": {},
   "outputs": [
    {
     "name": "stdout",
     "output_type": "stream",
     "text": [
      "Fitting 5 folds for each of 240 candidates, totalling 1200 fits\n",
      "Runtime:11.304670572280884\n",
      "Best Score: 0.885\n",
      "Best Parameters\n",
      "{'activation': 'relu', 'hidden_layer_sizes': 40, 'max_iter': 200, 'solver': 'adam'}\n",
      "Validation Accuracy: 0.904\n",
      "Test Accuracy: 0.885\n",
      "F1 Score: 0.885\n"
     ]
    },
    {
     "data": {
      "image/png": "[encoded data removed]",
      "text/plain": [
       "<Figure size 432x288 with 2 Axes>"
      ]
     },
     "metadata": {
      "needs_background": "light"
     },
     "output_type": "display_data"
    }
   ],
   "source": [
    "if not sys.warnoptions:\n",
    "    warnings.simplefilter(\"ignore\")\n",
    "    os.environ[\"PYTHONWARNINGS\"] = \"ignore\"\n",
    "\n",
    "#sizes = [(i, i) for i in range(25, 201, 25)] + \\\n",
    "#        [(i, i, i) for i in range(25, 201, 25)]\n",
    "\n",
    "sizes = [i for i in range(5, 201, 5)]\n",
    "\n",
    "parameters = {\n",
    "    'activation': ['logistic', 'tanh', 'relu'],\n",
    "    'solver': ['sgd', 'adam'],\n",
    "    #'alpha': [0.0001, 0.001],\n",
    "    #'learning_rate': ['constant', 'invscaling', 'adaptive'],\n",
    "    #'learning_rate_init': [0.001, 0.01, 0.1],\n",
    "    'hidden_layer_sizes': sizes,\n",
    "    'max_iter': [200],\n",
    "}\n",
    "\n",
    "mlp = MLPClassifier(random_state=0)\n",
    "\n",
    "start_time = time.time()\n",
    "\n",
    "clf = GridSearchCV(estimator=mlp, \n",
    "                   param_grid=parameters, \n",
    "                   scoring='f1',\n",
    "                   verbose=1,\n",
    "                   n_jobs=-1).fit(X_train, y_train)\n",
    "\n",
    "df = pd.DataFrame(clf.cv_results_)\n",
    "df.tail()\n",
    "df.to_csv('./results/hd/results_hd_mlp.csv', index=False)\n",
    "\n",
    "print(f'Runtime:{time.time() - start_time}')\n",
    "print(f'Best Score: {clf.best_score_:.3f}')\n",
    "print('Best Parameters')\n",
    "print(clf.best_params_)\n",
    "\n",
    "y_pred = clf.predict(X_test)\n",
    "\n",
    "# Print accuracy\n",
    "print(f'Validation Accuracy: {clf.score(X_train, y_train):.3f}')\n",
    "print(f'Test Accuracy: {clf.score(X_test, y_test):.3f}')\n",
    "print(f'F1 Score: {f1_score(y_test, y_pred):.3f}')\n",
    "\n",
    "# Plot confusion matrix\n",
    "cm = confusion_matrix(y_test, y_pred, labels=clf.classes_)\n",
    "disp = ConfusionMatrixDisplay(confusion_matrix=cm, display_labels=clf.classes_)\n",
    "\n",
    "disp.plot()\n",
    "plt.show()"
   ]
  },
  {
   "cell_type": "markdown",
   "id": "2dd80ace",
   "metadata": {},
   "source": [
    "# Final Graphs"
   ]
  },
  {
   "cell_type": "code",
   "execution_count": 51,
   "id": "1d80d9c3",
   "metadata": {},
   "outputs": [
    {
     "data": {
      "image/png": "[encoded data removed]",
      "text/plain": [
       "<Figure size 432x288 with 1 Axes>"
      ]
     },
     "metadata": {
      "needs_background": "light"
     },
     "output_type": "display_data"
    }
   ],
   "source": [
    "x_scale = [i for i in range(5, 201, 5)]\n",
    "sizes = [i for i in range(5, 201, 5)]\n",
    "\n",
    "sgd_train = []\n",
    "sgd_val = []\n",
    "adam_train = []\n",
    "adam_val = []\n",
    "\n",
    "for size in sizes:\n",
    "    scores = cross_validate(estimator=MLPClassifier(solver='sgd',\n",
    "                                                    activation='relu',\n",
    "                                                    hidden_layer_sizes=size,\n",
    "                                                    max_iter=200,\n",
    "                                                    random_state=0),\n",
    "                            X=X_train, \n",
    "                            y=y_train,\n",
    "                            scoring='f1',\n",
    "                            return_train_score=True,\n",
    "                            return_estimator=True,\n",
    "                            n_jobs=-1)\n",
    "\n",
    "    # Append scores\n",
    "    sgd_train.append(scores['train_score'].mean())\n",
    "    sgd_val.append(scores['test_score'].mean())\n",
    "    \n",
    "    scores = cross_validate(estimator=MLPClassifier(solver='adam',\n",
    "                                                    activation='relu',\n",
    "                                                    hidden_layer_sizes=size,\n",
    "                                                    max_iter=200,\n",
    "                                                    random_state=0),\n",
    "                            X=X_train, \n",
    "                            y=y_train,\n",
    "                            scoring='f1',\n",
    "                            return_train_score=True,\n",
    "                            return_estimator=True,\n",
    "                            n_jobs=-1)\n",
    "\n",
    "    # Append scores\n",
    "    adam_train.append(scores['train_score'].mean())\n",
    "    adam_val.append(scores['test_score'].mean())\n",
    "\n",
    "    \n",
    "# Plot Scores\n",
    "fig, ax = plt.subplots()\n",
    "ax.set_xlabel('Hidden_Layer_Size')\n",
    "ax.set_ylabel('F1 Score')\n",
    "ax.set_title(f'F1 Score vs Hidden_Layer_Size, by solver')\n",
    "\n",
    "#Training\n",
    "ax.plot(x_scale, sgd_train, marker=\"+\", label=\"sgd_train\", c='green', drawstyle=\"steps-post\")\n",
    "ax.plot(x_scale, adam_train, marker=\"+\", label=\"adam_train\", c='orange', drawstyle=\"steps-post\")\n",
    "\n",
    "# Validation\n",
    "ax.plot(x_scale, sgd_val, marker=\"o\", label=\"sgd_val\", c='green', drawstyle=\"steps-post\")\n",
    "ax.plot(x_scale, adam_val, marker=\"o\", label=\"adam_val\", c='orange', drawstyle=\"steps-post\")\n",
    "\n",
    "ax.set_ylim([0.8, 1.0])\n",
    "\n",
    "ax.legend()\n",
    "plt.show()"
   ]
  },
  {
   "cell_type": "markdown",
   "id": "4073446e",
   "metadata": {},
   "source": [
    "# Loss Curve"
   ]
  },
  {
   "cell_type": "code",
   "execution_count": 89,
   "id": "0a3eb683",
   "metadata": {},
   "outputs": [
    {
     "data": {
      "image/png": "[encoded data removed]",
      "text/plain": [
       "<Figure size 432x288 with 1 Axes>"
      ]
     },
     "metadata": {
      "needs_background": "light"
     },
     "output_type": "display_data"
    }
   ],
   "source": [
    "mlp = MLPClassifier(activation=\"relu\",\n",
    "                    solver='adam',\n",
    "                    hidden_layer_sizes=40,\n",
    "                    max_iter=1, \n",
    "                    warm_start=True,\n",
    "                    random_state=0)\n",
    "\n",
    "training_loss = []\n",
    "val_loss = []\n",
    "\n",
    "x_axis = [i for i in range(500)]    \n",
    "    \n",
    "for i in x_axis:\n",
    "    mlp.fit(X_train, y_train)\n",
    "    training_loss.append(log_loss(y_train, mlp.predict(X_train)))\n",
    "    val_loss.append(log_loss(y_test, mlp.predict(X_test)))\n",
    "\n",
    "# Plot Loss\n",
    "fig, ax = plt.subplots()\n",
    "ax.set_xlabel('Iteration')\n",
    "ax.set_ylabel('Loss')\n",
    "ax.set_title(f'Loss vs. Iteration')\n",
    "\n",
    "#Training\n",
    "ax.plot(x_axis, training_loss, marker=\"+\", label=\"Training Loss\", drawstyle=\"steps-post\")\n",
    "\n",
    "# Validation\n",
    "ax.plot(x_axis, val_loss, marker=\".\", label=\"Val Loss\", drawstyle=\"steps-post\")\n",
    "\n",
    "ax.legend()\n",
    "plt.show()"
   ]
  },
  {
   "cell_type": "code",
   "execution_count": null,
   "id": "49f49205",
   "metadata": {},
   "outputs": [],
   "source": []
  }
 ],
 "metadata": {
  "kernelspec": {
   "display_name": "Python 3 (ipykernel)",
   "language": "python",
   "name": "python3"
  },
  "language_info": {
   "codemirror_mode": {
    "name": "ipython",
    "version": 3
   },
   "file_extension": ".py",
   "mimetype": "text/x-python",
   "name": "python",
   "nbconvert_exporter": "python",
   "pygments_lexer": "ipython3",
   "version": "3.10.4"
  }
 },
 "nbformat": 4,
 "nbformat_minor": 5
}
