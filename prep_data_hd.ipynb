{
 "cells": [
  {
   "cell_type": "code",
   "execution_count": 30,
   "id": "b9bb1ec3",
   "metadata": {},
   "outputs": [],
   "source": [
    "import pandas as pd\n",
    "import numpy as np\n",
    "\n",
    "from matplotlib import pyplot as plt\n",
    "\n",
    "from sklearn.model_selection import train_test_split\n",
    "from sklearn.preprocessing import StandardScaler\n",
    "from sklearn.decomposition import PCA\n",
    "\n",
    "from ydata_profiling import ProfileReport"
   ]
  },
  {
   "cell_type": "code",
   "execution_count": 31,
   "id": "a1d55ea3",
   "metadata": {},
   "outputs": [],
   "source": [
    "def map_columns_to_ints(df):\n",
    "    # Sex: Female = 0, Male = 1\n",
    "    df['Sex'] = df['Sex'].map({'F': 0, 'M': 1})\n",
    "\n",
    "    # ChestPaintType: Atypical Angina = 0, Non-Anginal Pain = 1, Asymptomatic = 2, Typical Angina = 3 \n",
    "    df['ChestPainType'] = df['ChestPainType'].map({'ATA': 0, 'NAP': 1, 'ASY': 2, 'TA': 3})\n",
    "\n",
    "    # RestingECG: Normal = 0, ST-T Wave Abnormality = 1, Left Ventricular Hypertrophy = 2\n",
    "    df['RestingECG'] = df['RestingECG'].map({'Normal': 0, 'ST': 1, 'LVH': 2})\n",
    "\n",
    "    # ExerciseAngina: No = 0, Yes = 1\n",
    "    df['ExerciseAngina'] = df['ExerciseAngina'].map({'N': 0, 'Y': 1})\n",
    "\n",
    "    # ST_Slope (at peak exercise): Up = 0, Flat = 1, Down = 2\n",
    "    df['ST_Slope'] = df['ST_Slope'].map({'Up': 0, 'Flat': 1, 'Down': 2})\n",
    "    \n",
    "    return df"
   ]
  },
  {
   "cell_type": "markdown",
   "id": "5e709cac",
   "metadata": {},
   "source": [
    "# No scaling"
   ]
  },
  {
   "cell_type": "code",
   "execution_count": 32,
   "id": "8390f65f",
   "metadata": {},
   "outputs": [],
   "source": [
    "# Load dataset\n",
    "df = pd.read_csv('./datasets/heart_disease/heart_disease.csv')\n",
    "\n",
    "# Drop duplicates\n",
    "df = df.drop_duplicates()\n",
    "\n",
    "# Map columns with characters to integers\n",
    "df = map_columns_to_ints(df)\n",
    "\n",
    "# Split X and y\n",
    "X = df.drop(df.columns[-1], axis=1)\n",
    "y = df[df.columns[-1]].squeeze()\n",
    "\n",
    "# Get X and y train and test sets\n",
    "X_train, X_test, y_train, y_test = train_test_split(X, \n",
    "                                                    y, \n",
    "                                                    test_size=0.25,\n",
    "                                                    random_state=0)\n",
    "\n",
    "# Save datasets\n",
    "X_train.to_pickle('./datasets/heart_disease/X_train.pkl')\n",
    "y_train.to_pickle('./datasets/heart_disease/y_train.pkl')\n",
    "X_test.to_pickle('./datasets/heart_disease/X_test.pkl')\n",
    "y_test.to_pickle('./datasets/heart_disease/y_test.pkl')"
   ]
  },
  {
   "cell_type": "markdown",
   "id": "eb7dabdd",
   "metadata": {},
   "source": [
    "# Yes scaling"
   ]
  },
  {
   "cell_type": "code",
   "execution_count": 33,
   "id": "58b043ea",
   "metadata": {},
   "outputs": [],
   "source": [
    "# Load dataset\n",
    "df = pd.read_csv('./datasets/heart_disease/heart_disease.csv')\n",
    "\n",
    "# Drop duplicates\n",
    "df = df.drop_duplicates()\n",
    "\n",
    "# Map columns with characters to integers\n",
    "df = map_columns_to_ints(df)\n",
    "\n",
    "# Split X and y\n",
    "X = df.drop(df.columns[-1], axis=1)\n",
    "y = df[df.columns[-1]].squeeze()\n",
    "\n",
    "# Get X and y train and test sets\n",
    "X_train, X_test, y_train, y_test = train_test_split(X, \n",
    "                                                    y, \n",
    "                                                    test_size=0.25,\n",
    "                                                    random_state=0)\n",
    "\n",
    "# Scale data\n",
    "features = ['Age', \n",
    "            'RestingBP', \n",
    "            'Cholesterol',  \n",
    "            'FastingBS',\n",
    "            'MaxHR',\n",
    "            'Oldpeak']\n",
    "\n",
    "scaler = StandardScaler()\n",
    "X_train[features] = scaler.fit_transform(X_train[features])\n",
    "X_test[features] = scaler.transform(X_test[features])\n",
    "\n",
    "# Save datasets\n",
    "X_train.to_pickle('./datasets/heart_disease/X_train_scaled.pkl')\n",
    "y_train.to_pickle('./datasets/heart_disease/y_train_scaled.pkl')\n",
    "X_test.to_pickle('./datasets/heart_disease/X_test_scaled.pkl')\n",
    "y_test.to_pickle('./datasets/heart_disease/y_test_scaled.pkl')"
   ]
  },
  {
   "cell_type": "markdown",
   "id": "8e258b91",
   "metadata": {},
   "source": [
    "# Scaling and PCA"
   ]
  },
  {
   "cell_type": "code",
   "execution_count": 24,
   "id": "f952f76b",
   "metadata": {},
   "outputs": [
    {
     "name": "stdout",
     "output_type": "stream",
     "text": [
      "Number of dimensions to keep: 6\n"
     ]
    },
    {
     "data": {
      "image/png": "[encoded data removed]",
      "text/plain": [
       "<Figure size 432x288 with 1 Axes>"
      ]
     },
     "metadata": {
      "needs_background": "light"
     },
     "output_type": "display_data"
    }
   ],
   "source": [
    "pca_cutoff = 0.95\n",
    "\n",
    "# Get first dataset, which we want test cases from\n",
    "df = pd.read_csv('./datasets/heart_disease/heart_disease.csv')\n",
    "\n",
    "# Drop duplicates\n",
    "df = df.drop_duplicates()\n",
    "\n",
    "# Map columns with characters to integers\n",
    "df = map_columns_to_ints(df)\n",
    "\n",
    "# Split X and y\n",
    "X = df.drop(df.columns[-1], axis=1)\n",
    "y = df[df.columns[-1]].squeeze()\n",
    "\n",
    "# Get X and y train and test sets\n",
    "X_train, X_test, y_train, y_test = train_test_split(X, \n",
    "                                                    y, \n",
    "                                                    test_size=0.25,\n",
    "                                                    random_state=0)\n",
    "\n",
    "# Scale data\n",
    "features = ['Age', \n",
    "            'RestingBP', \n",
    "            'Cholesterol',  \n",
    "            'FastingBS',\n",
    "            'MaxHR',\n",
    "            'Oldpeak']\n",
    "\n",
    "scaler = StandardScaler()\n",
    "X_train[features] = scaler.fit_transform(X_train[features])\n",
    "X_test[features] = scaler.transform(X_test[features])\n",
    "\n",
    "# Find minimum number of dimensions that explain >= 'pca_cutoff' of variance\n",
    "pca = PCA()\n",
    "pca.fit(X_train[features])\n",
    "cumsum = np.cumsum(pca.explained_variance_ratio_)\n",
    "d = np.argmax(cumsum >= pca_cutoff) + 1\n",
    "\n",
    "# Apply reduction\n",
    "pca = PCA(n_components=d)\n",
    "X_train[features] = pca.fit_transform(X_train[features])\n",
    "X_test[features] = pca.transform(X_test[features])\n",
    "\n",
    "print(f'Number of dimensions to keep: {d}')\n",
    "\n",
    "# Plot dimensions vs. explained variance\n",
    "fig, ax = plt.subplots()\n",
    "ax.set_xlabel(\"Dimensions\")\n",
    "ax.set_ylabel(\"Explained Variance\")\n",
    "ax.plot(list(range(1, 7)), cumsum, marker=\"o\")\n",
    "plt.show()\n",
    "\n",
    "# Convert back to pandas dataframe\n",
    "col_names = [f'PC{i}' for i in range(1, d + 1)]\n",
    "X_train = pd.DataFrame(X_train, columns=col_names)\n",
    "X_test = pd.DataFrame(X_test, columns=col_names)\n",
    "\n"
   ]
  },
  {
   "cell_type": "markdown",
   "id": "b2060533",
   "metadata": {},
   "source": [
    "# Pandas Profiling Report"
   ]
  },
  {
   "cell_type": "code",
   "execution_count": 5,
   "id": "68350f8d",
   "metadata": {},
   "outputs": [
    {
     "data": {
      "application/vnd.jupyter.widget-view+json": {
       "model_id": "663b107343eb49a6b361f490fff93c5b",
       "version_major": 2,
       "version_minor": 0
      },
      "text/plain": [
       "Summarize dataset:   0%|          | 0/5 [00:00<?, ?it/s]"
      ]
     },
     "metadata": {},
     "output_type": "display_data"
    },
    {
     "data": {
      "application/vnd.jupyter.widget-view+json": {
       "model_id": "c8841e5101684294b3b4a872db47b242",
       "version_major": 2,
       "version_minor": 0
      },
      "text/plain": [
       "Generate report structure:   0%|          | 0/1 [00:00<?, ?it/s]"
      ]
     },
     "metadata": {},
     "output_type": "display_data"
    },
    {
     "data": {
      "application/vnd.jupyter.widget-view+json": {
       "model_id": "5026d452e8d94d40baa494e2bfd961d0",
       "version_major": 2,
       "version_minor": 0
      },
      "text/plain": [
       "Render HTML:   0%|          | 0/1 [00:00<?, ?it/s]"
      ]
     },
     "metadata": {},
     "output_type": "display_data"
    },
    {
     "data": {
      "application/vnd.jupyter.widget-view+json": {
       "model_id": "00da9c9fb82f415081e378a7cf236cae",
       "version_major": 2,
       "version_minor": 0
      },
      "text/plain": [
       "Export report to file:   0%|          | 0/1 [00:00<?, ?it/s]"
      ]
     },
     "metadata": {},
     "output_type": "display_data"
    }
   ],
   "source": [
    "profile = ProfileReport(df, title=\"Heart Disease Profiling Report\")\n",
    "profile.to_file(\"./plots/HD_profile_report.html\")"
   ]
  }
 ],
 "metadata": {
  "kernelspec": {
   "display_name": "Python 3 (ipykernel)",
   "language": "python",
   "name": "python3"
  },
  "language_info": {
   "codemirror_mode": {
    "name": "ipython",
    "version": 3
   },
   "file_extension": ".py",
   "mimetype": "text/x-python",
   "name": "python",
   "nbconvert_exporter": "python",
   "pygments_lexer": "ipython3",
   "version": "3.10.4"
  }
 },
 "nbformat": 4,
 "nbformat_minor": 5
}
